{
  "nbformat": 4,
  "nbformat_minor": 0,
  "metadata": {
    "colab": {
      "name": "AI_Project_DarkNet.ipynb",
      "provenance": [],
      "collapsed_sections": [],
      "authorship_tag": "ABX9TyMI3Eb4QinUTSAJDFEVmfPO"
    },
    "kernelspec": {
      "name": "python3",
      "display_name": "Python 3"
    },
    "language_info": {
      "name": "python"
    }
  },
  "cells": [
    {
      "cell_type": "code",
      "execution_count": null,
      "metadata": {
        "id": "fQYZTO2BvS7d"
      },
      "outputs": [],
      "source": [
        "import torch.nn as nn\n",
        "import torch.nn.functional as F\n",
        "import torch.optim as optim\n",
        "import torch\n",
        "from torchsummary import summary"
      ]
    },
    {
      "cell_type": "markdown",
      "source": [
        "## ConvBlock\n",
        "\n",
        "> 3 x3 Conv → BatchNorm(BN) → LeakyReLU\n",
        "\n",
        "- a convolution block has above structure refering the [paper](https://pjreddie.com/media/files/papers/YOLOv3.pdf)\n"
      ],
      "metadata": {
        "id": "nFcnKqJPXO1_"
      }
    },
    {
      "cell_type": "code",
      "source": [
        "class ConvBlock(nn.Module):\n",
        "    def __init__(self, in_plane, out_plane, droprate):\n",
        "        super(ConvBlock, self).__init__()\n",
        "        self.conv1 = nn.Conv2d(in_plane, out_plane, kernel_size=3, stride=1, padding=1, bias=False)\n",
        "        self.bn1 = nn.BatchNorm2d(out_plane)\n",
        "        self.relu = nn.LeakyReLU(inplace=True)\n",
        "        self.droprate = droprate\n",
        "       \n",
        "\n",
        "    def forward(self, x):\n",
        "        out = self.conv1(x)\n",
        "        out = self.bn1(out)\n",
        "        out = self.relu(out)\n",
        "        out = F.dropout(out, p=self.droprate, training=self.training, inplace=False)\n",
        "        \n",
        "        return out"
      ],
      "metadata": {
        "id": "FLEH9s-0znt4"
      },
      "execution_count": null,
      "outputs": []
    },
    {
      "cell_type": "markdown",
      "source": [
        "## ResidualBlock\n",
        "> 1 x 1 ConvBlock → 3 x 3 ConvBlock → concatenation earlier feature map & upsampled feature\n",
        "- get more meaningful semantic information from upsampled feature\n",
        "- finer-grained information from earlier feature map"
      ],
      "metadata": {
        "id": "FKwLMXqEYHWb"
      }
    },
    {
      "cell_type": "code",
      "source": [
        "class ResidualBlock(nn.Module):\n",
        "    def __init__(self, in_plane, droprate):\n",
        "        super(ResidualBlock, self).__init__()\n",
        "        self.conv1 = nn.Conv2d(in_plane, in_plane//2, kernel_size=1, stride=1, bias=False)\n",
        "        self.bn1 = nn.BatchNorm2d(in_plane//2)\n",
        "        self.relu = nn.LeakyReLU()\n",
        "        self.conv2 = nn.Conv2d(in_plane//2, in_plane, kernel_size = 3, padding=1, bias=False)\n",
        "        self.bn2 = nn.BatchNorm2d(in_plane)\n",
        "        self.droprate = droprate\n",
        "    \n",
        "    def forward(self, x):\n",
        "        residual = x\n",
        "        out = self.conv1(x)\n",
        "        out = self.bn1(out)\n",
        "        out = self.relu(out)\n",
        "        out = self.conv2(out)\n",
        "        out = self.bn2(out)\n",
        "        out = self.relu(out)\n",
        "        out += residual\n",
        "        out = F.dropout(out, p=self.droprate, inplace=False, training=self.training)        \n",
        "\n",
        "        return out"
      ],
      "metadata": {
        "id": "hT5zimKi1lfP"
      },
      "execution_count": null,
      "outputs": []
    },
    {
      "cell_type": "markdown",
      "source": [
        "## DarkNet\n",
        "- make DarkNet structure using ConvBlock and Resudial Block\n",
        "- refering the paper\n",
        "    - no. of residual block: 1 2 8 8 4\n",
        "\n",
        "> conv(32, 64) → conv(64, 128) → residual(128, 128) → conv(128, 256) → residual(256, 256) → conv(256, 512) → residual(512, 512) → conv(512, 1024) → residual(1024,1024) → avg_pooling → linear(1024, num_class)"
      ],
      "metadata": {
        "id": "pb7qsIlFYtJS"
      }
    },
    {
      "cell_type": "code",
      "source": [
        "class Darknet(nn.Module):\n",
        "    def __init__(self, num_classes, block = ResidualBlock, droprate = 0.2):\n",
        "        super(Darknet, self).__init__()\n",
        "        self.num_classes = num_classes\n",
        "        self.droprate = droprate\n",
        "\n",
        "        self.conv1 = ConvBlock(3, 32, self.droprate)\n",
        "        self.conv2 = ConvBlock(32, 64, self.droprate)\n",
        "        self.resi1 = self.make_residual_block(block, 64, 1, self.droprate)\n",
        "\n",
        "        self.conv3 = ConvBlock(64, 128, self.droprate)\n",
        "        self.resi2 = self.make_residual_block(block, 128, 2, self.droprate)\n",
        "\n",
        "        self.conv4 = ConvBlock(128, 256, self.droprate)\n",
        "        self.resi3 = self.make_residual_block(block, 256, 8, self.droprate)\n",
        "\n",
        "        self.conv5 = ConvBlock(256, 512, self.droprate)\n",
        "        self.resi4 = self.make_residual_block(block, 512, 8, self.droprate)\n",
        "\n",
        "        self.conv6 = ConvBlock(512, 1024, self.droprate)\n",
        "        self.resi5 = self.make_residual_block(block, 1024, 4, self.droprate)\n",
        "\n",
        "        self.avg_pool = nn.AdaptiveAvgPool2d((1, 1))\n",
        "        self.fc = nn.Linear(1024, self.num_classes)\n",
        "\n",
        "    def make_residual_block(self, block, in_plane, nblock, droprate):\n",
        "        layers = []\n",
        "        for i in range(nblock):\n",
        "            layers.append(block(in_plane, droprate))\n",
        "        return nn.Sequential(*layers)\n",
        "    \n",
        "    def forward(self, x):\n",
        "        out = self.conv1(x)\n",
        "        out = self.conv2(out)\n",
        "        out = self.resi1(out)\n",
        "\n",
        "        out = self.conv3(out)\n",
        "        out = self.resi2(out)\n",
        "\n",
        "        out = self.conv4(out)\n",
        "        out = self.resi3(out)\n",
        "\n",
        "        out = self.conv5(out)\n",
        "        out = self.resi4(out)\n",
        "\n",
        "        out = self.conv6(out)\n",
        "        out = self.resi5(out)\n",
        "\n",
        "        out = self.avg_pool(out)\n",
        "        ut = out.view(-1, 1024)\n",
        "        out = self.fc(out)\n",
        "\n",
        "        return out"
      ],
      "metadata": {
        "id": "NIhIYvlox0zx"
      },
      "execution_count": null,
      "outputs": []
    },
    {
      "cell_type": "code",
      "source": [
        ""
      ],
      "metadata": {
        "id": "IZ0gzb-CZyq2"
      },
      "execution_count": null,
      "outputs": []
    }
  ]
}